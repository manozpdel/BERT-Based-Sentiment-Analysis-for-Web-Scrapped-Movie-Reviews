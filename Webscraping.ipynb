{
 "cells": [
  {
   "cell_type": "code",
   "execution_count": 24,
   "id": "8a691485-5b6c-41c2-b9b1-b2eb6c803905",
   "metadata": {},
   "outputs": [],
   "source": [
    "import re\n",
    "import requests\n",
    "import numpy as np\n",
    "import pandas as pd\n",
    "from bs4 import BeautifulSoup"
   ]
  },
  {
   "cell_type": "code",
   "execution_count": 25,
   "id": "43fcf87e-121a-44e0-9880-eb4d42684096",
   "metadata": {},
   "outputs": [],
   "source": [
    "# URL of the webpage you want to scrape\n",
    "url = 'https://www.imdb.com/title/tt10028196/reviews/'"
   ]
  },
  {
   "cell_type": "code",
   "execution_count": 27,
   "id": "ce754e1a-6113-4575-ba63-c2de35e23ebe",
   "metadata": {},
   "outputs": [],
   "source": [
    "# Send a GET request to the webpage\n",
    "response = requests.get(url)"
   ]
  },
  {
   "cell_type": "code",
   "execution_count": 28,
   "id": "370119e9-5ce4-477e-a1c4-a1ef28677e3b",
   "metadata": {},
   "outputs": [],
   "source": [
    "# Parse the HTML content of the page with BeautifulSoup\n",
    "soup = BeautifulSoup(response.content, 'html.parser')"
   ]
  },
  {
   "cell_type": "code",
   "execution_count": 29,
   "id": "457d059d-785c-4f80-ab38-31e1cfe010ca",
   "metadata": {},
   "outputs": [],
   "source": [
    "# Find all <div> elements with class 'content'\n",
    "results = soup.find_all('div', class_='text show-more__control')"
   ]
  },
  {
   "cell_type": "code",
   "execution_count": 34,
   "id": "d0f74ba4-61b2-4d38-b789-b0de844eb901",
   "metadata": {},
   "outputs": [],
   "source": [
    "# Extract the text content of each review object in the results list into a list called reviews.\n",
    "reviews = [result.text for result in results]"
   ]
  },
  {
   "cell_type": "code",
   "execution_count": 35,
   "id": "87cd30e5-ef3d-4d13-a013-3f38cb655cc0",
   "metadata": {},
   "outputs": [
    {
     "name": "stdout",
     "output_type": "stream",
     "text": [
      "[\"Lal Singh Chadda is a masterpiece & must watch in my opinion!I have seen Forrest Gump and loved it but this is even better because it's more relatable with historical events. Also, Aamir's character is slightly more cheerful / uplifting than Tom Hank's one, which I like better.\", \"After a long time watched a Good Movie but Could have been batter, This Story Cover everything since I remember 90's. Well Mixed Story with Past Incident happened in India but Not Sure about 'Rupa' innerwear. However Good entertaining Movie within balance of A Tear and a Smile! I am Expecting more well Organized Story but definitely not deserve 1 Star for Sure!!PS. I yet to watched 'Forrest Gump'\", 'People are reviewing it negatively without even watching it. Shame on such people. I loved the movie. As good as the original one. A worth watching remake.', \"It's the story of a man, who didn't have a master plan, took each day as it was given, if you erred you'd be forgiven, loved his family and his friends, didn't fake, feign or pretend, full of love and dedication, reverence and adoration.You can easily put the origins of this to one side and enjoy a piece of cinema that is still unique in many ways. The central performance from Aamir Khan is delightful, the supporting roles just as good and the messages and meanings as intense as any from a film that asks you to consider the way you perceive and see the world, and whether there might be anything you can do to make it better for those around you.\", 'No way closer to original. Acting is literally made up and botched up. Kareena has no role in it. This movie tanks the industry further down. One or two songs are good.', 'Remaking a cult classic like Forrest Gump is a tough task and in India if someone could have achieved this feat then it was surely Aamir and he has done it nicely.Story is almost same few references have been changed as per Indian culture.Runtime is something which could be reduced by 10 minutes from second half, but still the movie would keep the audience glue to their seats.Dialogues, screenplay, cinematography, performances by all the actors are awesome.Everyone should watch this official adaptation of the Forrest Gump. I am sure everyone will come out as a better person from the theatre after watch this. We need more Laal Singh Chaddha in our society.', \"Worst movie ever made dont waste money if you have watched forest gump.Direction is weak\\nStoryline is copied songs are not up to the mark\\nIt's not a family entertainer ,\", 'I normally do not review films here on Imdb, but I will gladly make an exception for this film due to the unfair treatment it has received!It is probably the best and heartfelt movie made by Bollywood in the past years. No film comes even close to this film. I think the 1 start reviews are purely politically motivated and does not do justice to the film. The film itself is beautiful ... simply beautiful. Full of emotions and you can not take your eyes away from the screen. Every scene, and every shot is beautifully done.At first I had expected that Amir Khans acting will be similar to PK and Doom 3, but I was totally wrong. After watching the film, I think we can easily say that Aamir khan truly is the king of acting! He is probably the only one in Bollywood, who can act. At the same time, huge amount of praises for Kareena Kapoor. This is probably her best work so far. In my opinion, this is the BEST FILM of their careers!The film is so emotional, and at a certain level, I would say that it even exceeds the level of Forrest Gump. Because see, yes it is a remake of Forrest Gump, but it is a completely different film, adapted to a different culture and country. When I saw all the reviews on YouTube and internet, I had frankly expected that the film is probably a scene-to-scene remake of Forrest Gump, but its not just that! It has the elements of Indian culture and history, which we all can relate to. I think at a certain level, we have a emotional connection with this film, which was not true for Forrest Gump (no matter how much of a masterpiece that is!).I will only say this. I honestly wish I could give the movie a 100 star rating and do justice to the masterpiece, which it is! IF you are not watching the film due the bad reviews, just ignore them!! This is a MASTERPIECE! Full of emotions, you will be glued to the screen from the very first scene, and the emotional rollercoaster!! I felt like crying at some scenes and then smiling at the next. Amir Khan has truly done it again!! The best Bollywood has to offer. I do not think any film or actor even comes close to the level of this film. A DEFINITE WATCH FOR EVERYONE!!', \"It's not the Amir's best movie for certain but not the worst either the way haters travailed to prove day in day out before the release of this movie. The first part is fun-filled with a good chronological series of Indian events starting from the withdrawal of Emergency in 1977. Forrest Gump was a timeless classic movie of Hollywood. An amazing film about all that surrounds us, from feelings to people to family that we do not often notice much. Just like the Forrest Gump, LSC is an incredible character who perceives everything so differently that we miss out most of the times in this race of materialism. The first half holds the audience spellbound with the variation of different setups from schools to race course jogging tracks to Delhi and plough fields. But I feel the Army Scenes could have been better. There were few comical scenes which perfectly fit into the well defined sequence but somehow, they were overstretched. Chaitanya played his part quite well. The worst part was Chaddhi Banyan business and its relevance in the entire 2nd part which wasn't just uncalled for but literally bemocked the Forrest Gump and for this they had to unnecessarily introduce a terrorist and glorify him. Kareena and Mona Singh have acted well. Mona infact was exceptionally good defying her age which actually doesn't fall into the category of mothers. The reciprocal relatedness with Indian political events for some unspecified reasons saved the movie, otherwise the 2nd part is just too boring. Lets come to the most controversial part of the movie i.e. Amir's acting. Well, the majority says he has overacted in the movie which I also feel he has overdone it at many places but he did outstrip his real self in few scenes in which the autism seemed real. TOM HANKS nailed that and nobody can beat him for this. Conclusively, it's a sentimental and thought-provoking movie that's very hard to write about, it's more a watch than just seeing the top level of the story and bemusing it.\", 'Not worth wasting money. Better watch Hollywood version original. Tomhanks looks awesome. Hope better movie like RRR are made in future. Aamir perfectionist needs improvement.', \"This film does not deserve a one star rating. Period. There are much worse movies than this. Neither is this a ten star film.What it is, is a very faithful adaptation of Forrest Gump which successfully transplants an American story to an Indian milieu, and improves on Forrest's relationship with Jenny by leaps and bounds, giving it the story arc it originally deserved. The movie also does not pull any punches while showing historical incidents, and actually takes a huge risk by calling out organized religion on the whole (not a specific one as many have been led to believe) as the root cause of all evil (here Malaria). Forrest Gump was a far safer movie and seems tame in comparison - in Lal Singh Chaddha the recreation of the events is much more visceral and realistic and pack quite a punch. While performances from some of the cast including Kareena, Naga Chaitanya and Manav Vij are exceptional, the weakest link in the film is Aamir himself, who is inconsistent and hammy in the extreme in many scenes. Also, Lal Singh Chaddha could have been shorter and better edited but even with all its flaws, it is still heartwarming and funny and good for a one time watch, for both those who have seen Forrest Gump, and those who haven't. Please watch.\", \"The adaptation is very good! In few moments the film gonne be better than the original. Musics are wonderful, I've no words to say. Srk gave a super entry. Do watch the movie it's very good movie.\", 'Very cheap version of the Original movie. Very slow screenplay. Unnecessary things are forced to the movie. Lack of logic, lack of emotions. No effect of role of Karina Kapoor.Bad acting by Amir Khan.', 'I had high expectations of Aamir Khan\\'s new movie Laal Singh Chaddha (LSC) because it was in production since last four years. Though I did not agree Aamir Khan re-making an official adaptation of Forrest Gump - I was keen to see what Aamir Khan does this time.But with the current wave against Muslims and Bollywood growing strong in Indian social media - especially against the three Khans, because they are Muslims disheartened me. Much before the movie\\'s release #boycottlalsinghchaddha was trending.And what I feared most happened - most movie critics did not give a thumbs up to the movie, and those who gave a good review were trolled with abuses. I just did not understand the whole \"religious fanatic game\" of people and groups who want to propagate a hate-campaign against a group of people just because they belong to a particular religion. For me, this is so unexpectable. Thus, I resolved the watch the movie but did not know when?Then I heard a few songs of the movie and they grew over me - so much that I could not resist but go and see those songs on the BIG SCREEN. The songs, lyrics, music and emotions were so raw and magical. It touched my heart and I went to see the movie.After watching the movie, I can say that - the movie is a very good adaptation of Forrest Gump. It has held the spine and core of the movie as is and done an excellent job in setting it in the Indian context.While watching the movie, I could see the story of Forrest Gump running parallelly in my mind. I loved the minute details taken care in the movie especially during the opening credit song where the feather floats and lands up near Aamir Khan\\'s shoes.I have to say upfront that Aamir Khan has played the role of Laal Singh Chaddha slightly over the top and a bit tardy. A more subtle version would have been more acceptable. At times, in Aamir Khan\\'s acting I saw repetitive shades of his earlier movies roles (Dhoom 3, PK, 3 Idiots) in his facial expressions and popped-eyes - bordering slightly like caricature characterisation of Mr. Beans. I think Aamir Khan should have avoided that part a bit. But that was and is - his and his team\\'s interpretation of the character written by Atul Kulkarni. But as an audience - after interval, I accepted the character and acting with that bit of flaw and enjoyed the remainder part. I think Tom Hanks did not play this character this way. He was more perceptively delicate in his mannerism.The real stars of the movie were Mona Singh as LSC\\'s mother and Kareena Kapoor as LSC\\'s lover. Whenever they came on the screen, the story commanded attention and involvement. Both these plots worked fantastically for me.Naga Chaitainya\\'s role as army friend of LSC - to bring lighter moments and comedy, was poorly conceived. Naga\\'s make up and continuous references to under-garments did not bring the funny moments at all. A normal Naga Chaitainya with a normal business aspiration would have worked better.Manav Vij as terrorist turned business partner of LSC was okay.A special mention here for the roles played by child-artist by Ahmad Ibn Umar (young Aamir) and Hafsa Ashraf (young Kareena) - both of them leave strong impressions with their a warm-heart-tender moments of innocent love.For me, the high points of the movie were the rendition of beautiful and soulful music and songs by music director Pritam, lyricist Amitabh Bhattacharya and singers like Sonu Nigam, Mohan Kanna, Arijit Singh and Shipa Rao and others. Absolutely brilliant piece of work. These songs will have longevity beyond the life of the movie.At times I felt that inter-weaving historical events was done forcefully. It did not take away anything from the movie by being there - and it also did not add much to the flow of the movie. Even if one removes all the historical events popping up here and there in the movie - the movie would have been quite watchable even without those.Lastly, though the movie has not done good business as expected. I think, the movie was good. It just got entangled in the \"Fascist fanatic religious fervour\" times India is facing today - where everything and anything Muslim is trolled to be boycotted with vengeance.Leaving such dirty politics aside - I think. This is a well-made movie and Aamir Khan and his team - especially Director Advait Chandan and writer Atul Kulkarni has done a very good job in adapting Forrest Gump into Indian context; and all of them should feel proud of making a nice movie.LSG is much different than the run of the mill violent commercial south Indian style pan-India movies. Though critics and reviewers are saying that it is a slow and long movie, I did not find it so for a single moment. It is a FEEL-GOOD movie. I enjoyed it a lot.I would go with 7.5 out of 10 for this movie.', \"Don't believe on the ratings provided by most . Better watch and feel the difference. Amir Khans performance is amazing.very nice and amazing movie wath with all family members.\", \"The disaster was imminent. Why even try and remake one the greatest movies of all times. Forest Gump was a near perfect film with Tom Hanks delivering one of his finest performances.Cut to Aamir Khan trying to replicate the same performance. The best way to understand how horribly wrong Aamir went with his over-the-top acting is to look at Naga Chaitanya's Bala, an Army recruit Laal befriends on the bus to the training camp. Aside from replacing the shrimping business with a chaddi-banyan ka business, Chay's Bala is as over the top as Mykelti Williamson's Bubba. He is a Tamilian with a typical 'South-Indian' accent the rest of India has always stereotyped it with. Yet, Chay lives it, and how! His sincerity and surrender to the material and director's vision show in every scene, which ensures his act doesn't tip over and look like a mockery. Naga Chaitanya though skillfully ensures his act doesn't look caricaturish like Aamir's in Laal Singh Chaddha.Gary Sinise's Lieutenant Dan is entirely gobbled up and replaced with Manav Vij's Mohammad, a terrorist Laal rescued in Kargil simply out of the goodness of his heart, oblivious to the fact that he was the 'enemy'. Even as Mohammad follows Dan's trajectory through the rest of the film - co-founding Bala's chaddi-banyan ka business with Laal, and no points for guessing what they named the super-successful brand (ahem!) - the symbolism of establishing the enemy as the friend is far too stretched, and frankly implausible even in a suspended-disbelief state.And less said the better about Kareena Kapoor's performance.Overall give it a miss. And now I can clearly understand why Aamir had to literally plead with Indians to watch his film.\", \"Definitely worth the watch and I will watch it again. Since I am not an Indian, really do not understand why this movie is getting too much of hate, it's a beautiful movie! I can tell many people are giving rating without watching the movie. It is a must watch!\", \"This Movie is boring from the start and goes further downhill as the movie progresses. You can't compare this movie to Forrest Gump, which was a all-time classic. Confusing screen play and a slow paced plot makes this movie unbearable to watch, after the Interval quiet a few people left the multiplex without watching the full movie. I wasn't surprised because this movie is pathetic, right from the start to the end. Don't waste your time and money watching this movie.\", 'Idk what people are saying the guy has class in his acting. Great direction 👏 idk why people are leave fales reviews here trying to make people avoid this gem.', \"I feel people have become quite polarized (things are either great or pathetic). Kashmir Files became a super hit even though from film making point of view it was mediocre. Similarly, LSC is getting such bad reviews even though it's again somewhat mediocre. It has some great points and equally bad ones. Music and cinematography of the movie are one of the best that you'd have seen in Bollywood in the recent years. It is shot so beautifully and is very pleasant to watch. We can see that they have put immense amount of hardwork to make this movie. Although, Amir's portrayal of Laal is a big miss (he simply over acted). Some events in the movie were forced and could have been avoided. Please go ahead and watch the movie (don't follow the crowd). :)\", \"Lal Singh Chaddha is Hindi remake of Hollywood movie Forrest Gump.Having seen the original movie, I am disappointed with Lal Singh Chaddha.It's high time Bollywood realizes that having stars like Aamir Khan, Kareena Kapoor Kapoor or making remakes of famous/critically acclaimed Hollywood movies doesn't guarantee success.Audience wants to see original content and we expect some creativity which Bollywood is lacking miserably in past few years.People who have already watched Forrest Gump, can relate and who haven't watched it yet, may be they can watch and decide if watching Lal Singh Chaddha was/is worth their time and money.\", \"It's a really fun and a light movie,which shows how life works in mysterious ways. The first half of the movie was very quick grasping and connected with the audie well. But after the train journey people were so exhausted with what rupa(kareena kapoor) was doing(u will understand when u watch) that at the end when climax came people were not at the edges of their seats and surprised or emotionally connected with them. But the story was told in a very well manner and this would be the best adaption to forest grump because suiting the entire original movie to indian narrative was really tough. Lastly all the supporting actors,childhood Rupa and lal were all good. The only flaw in acting was trying Punjabi by Amir which didn't work out very well and was annoying at times. Jokes were good,made me chuckle\\nAll in all a good one time watch! Recommended 🙂\", 'Finally watched arguably the most discussed Bollywood film of 2022-Lal Singh Chadha today. I will like to discuss and share my personal thoughts strictly on the film and nothing with the debates happening. As we all know, Aamir Khan\\'s grand film is the official remake of Tom Hanks\\'s multiple academy classic Forrest Gump. The Advait Chandan film has Indianised the Hanks classic and Atul Kulkarni has done the central part of the screenplay. Lal Singh Chadha\\'s world is the Indian version of Forrest\\'s life with all critical political and social happenings in India from 1977 to date. The film has been true to the original yet tweaked certain things to suit Desi\\'s sensibilities. If I discuss the film\\'s negative points then the film is a bit too long and the screenplay in the second half could have been tighter. Also, Aamir\\'s mannerisms are repetitive in his Dhoom 3 and Pk act, also the pace drops at places. However, the film has more positive points and you cannot take away from Aamir for doing justice as a producer and also as a superstar. He is effective even with all mannerisms and the monotonous \\'\\'mmm\"\" saying. Certain sequences bring a smile to lips and others make the eye moist. The film doesn\\'t get into too much depth(maybe to avoid further controversy) yet still touches on emergency, Delhi riots, Mandal, Kargil war and others. Though Salman Khan\\'s Bharat also touched on topics post-independence till date yet Aamir\\'s world makes much more impact. The cinematography is excellent, and the songs are great with powerful lyrics. To sum up, I will say that though it\\'s impossible to match the original, Aamir\\'s version even with flaws is heart warming and makes a surely good watch!!', \"Kareena gets arrested, Aamir starts running for no reason unstoppable. Then Kareena dies, she had a son, Aamir had no idea that he had a son. That's the story, it took almost 3 hours to connect the dots using some un-related incidents.\", 'Right at the start they acknowledge that the film is an adaptation of Forrest Gump. And this is a fair adaptation. The Operation Blue Star, Kargil war and the demolition of Babri masjid were woven in well. Barring the over the top acting by Aamir Khan this was a good film.']\n"
     ]
    }
   ],
   "source": [
    "print(reviews)"
   ]
  },
  {
   "cell_type": "code",
   "execution_count": 36,
   "id": "3391ff5d-3daf-4daa-918a-05cb4285ce0d",
   "metadata": {},
   "outputs": [
    {
     "data": {
      "text/html": [
       "<div>\n",
       "<style scoped>\n",
       "    .dataframe tbody tr th:only-of-type {\n",
       "        vertical-align: middle;\n",
       "    }\n",
       "\n",
       "    .dataframe tbody tr th {\n",
       "        vertical-align: top;\n",
       "    }\n",
       "\n",
       "    .dataframe thead th {\n",
       "        text-align: right;\n",
       "    }\n",
       "</style>\n",
       "<table border=\"1\" class=\"dataframe\">\n",
       "  <thead>\n",
       "    <tr style=\"text-align: right;\">\n",
       "      <th></th>\n",
       "      <th>review</th>\n",
       "    </tr>\n",
       "  </thead>\n",
       "  <tbody>\n",
       "    <tr>\n",
       "      <th>0</th>\n",
       "      <td>Lal Singh Chadda is a masterpiece &amp; must watch...</td>\n",
       "    </tr>\n",
       "    <tr>\n",
       "      <th>1</th>\n",
       "      <td>After a long time watched a Good Movie but Cou...</td>\n",
       "    </tr>\n",
       "    <tr>\n",
       "      <th>2</th>\n",
       "      <td>People are reviewing it negatively without eve...</td>\n",
       "    </tr>\n",
       "    <tr>\n",
       "      <th>3</th>\n",
       "      <td>It's the story of a man, who didn't have a mas...</td>\n",
       "    </tr>\n",
       "    <tr>\n",
       "      <th>4</th>\n",
       "      <td>No way closer to original. Acting is literally...</td>\n",
       "    </tr>\n",
       "  </tbody>\n",
       "</table>\n",
       "</div>"
      ],
      "text/plain": [
       "                                              review\n",
       "0  Lal Singh Chadda is a masterpiece & must watch...\n",
       "1  After a long time watched a Good Movie but Cou...\n",
       "2  People are reviewing it negatively without eve...\n",
       "3  It's the story of a man, who didn't have a mas...\n",
       "4  No way closer to original. Acting is literally..."
      ]
     },
     "execution_count": 36,
     "metadata": {},
     "output_type": "execute_result"
    }
   ],
   "source": [
    "# Create a Pandas DataFrame called df from the reviews list.Each review will be stored as a row in the 'review' column.\n",
    "df = pd.DataFrame(np.array(reviews), columns=['review'])\n",
    "df.head()"
   ]
  },
  {
   "cell_type": "code",
   "execution_count": 37,
   "id": "cd14aa61-4b0b-41de-9abb-ef49df168d10",
   "metadata": {},
   "outputs": [
    {
     "data": {
      "text/plain": [
       "(25, 1)"
      ]
     },
     "execution_count": 37,
     "metadata": {},
     "output_type": "execute_result"
    }
   ],
   "source": [
    "df.shape"
   ]
  },
  {
   "cell_type": "code",
   "execution_count": 38,
   "id": "f82d2396-c2e0-40eb-a4b7-cc50092c99a1",
   "metadata": {},
   "outputs": [],
   "source": [
    "# Save DataFrame to CSV file\n",
    "df.to_csv('LalSinghChadda-Reveiw.csv', index=False)"
   ]
  },
  {
   "cell_type": "code",
   "execution_count": null,
   "id": "d09f4603-d2ae-461d-90b0-6dcaa3e07f55",
   "metadata": {},
   "outputs": [],
   "source": []
  }
 ],
 "metadata": {
  "kernelspec": {
   "display_name": "Python 3 (ipykernel)",
   "language": "python",
   "name": "python3"
  },
  "language_info": {
   "codemirror_mode": {
    "name": "ipython",
    "version": 3
   },
   "file_extension": ".py",
   "mimetype": "text/x-python",
   "name": "python",
   "nbconvert_exporter": "python",
   "pygments_lexer": "ipython3",
   "version": "3.11.7"
  }
 },
 "nbformat": 4,
 "nbformat_minor": 5
}
