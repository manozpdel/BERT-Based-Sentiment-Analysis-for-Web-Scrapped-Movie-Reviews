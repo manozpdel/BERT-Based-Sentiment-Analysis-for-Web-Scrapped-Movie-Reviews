{
 "cells": [
  {
   "cell_type": "code",
   "execution_count": 33,
   "id": "ba2a94b5-97b2-4727-a558-c2bc39c4e63a",
   "metadata": {},
   "outputs": [],
   "source": [
    "import re\n",
    "import torch\n",
    "import requests\n",
    "import pandas as pd\n",
    "import seaborn as sns\n",
    "from bs4 import BeautifulSoup\n",
    "import matplotlib.pyplot as plt\n",
    "from transformers import AutoTokenizer, AutoModelForSequenceClassification"
   ]
  },
  {
   "cell_type": "markdown",
   "id": "b8405704-2a8f-4371-af0a-208f13e963a9",
   "metadata": {},
   "source": [
    "**Load the LansinghChadda Movie review scrapped from the IMDb website.**"
   ]
  },
  {
   "cell_type": "code",
   "execution_count": 19,
   "id": "eb10ce05-31b0-4de1-a3af-2b7c63eaad57",
   "metadata": {
    "scrolled": true
   },
   "outputs": [
    {
     "data": {
      "text/html": [
       "<div>\n",
       "<style scoped>\n",
       "    .dataframe tbody tr th:only-of-type {\n",
       "        vertical-align: middle;\n",
       "    }\n",
       "\n",
       "    .dataframe tbody tr th {\n",
       "        vertical-align: top;\n",
       "    }\n",
       "\n",
       "    .dataframe thead th {\n",
       "        text-align: right;\n",
       "    }\n",
       "</style>\n",
       "<table border=\"1\" class=\"dataframe\">\n",
       "  <thead>\n",
       "    <tr style=\"text-align: right;\">\n",
       "      <th></th>\n",
       "      <th>review</th>\n",
       "    </tr>\n",
       "  </thead>\n",
       "  <tbody>\n",
       "    <tr>\n",
       "      <th>0</th>\n",
       "      <td>Lal Singh Chadda is a masterpiece &amp; must watch...</td>\n",
       "    </tr>\n",
       "    <tr>\n",
       "      <th>1</th>\n",
       "      <td>After a long time watched a Good Movie but Cou...</td>\n",
       "    </tr>\n",
       "    <tr>\n",
       "      <th>2</th>\n",
       "      <td>People are reviewing it negatively without eve...</td>\n",
       "    </tr>\n",
       "    <tr>\n",
       "      <th>3</th>\n",
       "      <td>It's the story of a man, who didn't have a mas...</td>\n",
       "    </tr>\n",
       "    <tr>\n",
       "      <th>4</th>\n",
       "      <td>No way closer to original. Acting is literally...</td>\n",
       "    </tr>\n",
       "  </tbody>\n",
       "</table>\n",
       "</div>"
      ],
      "text/plain": [
       "                                              review\n",
       "0  Lal Singh Chadda is a masterpiece & must watch...\n",
       "1  After a long time watched a Good Movie but Cou...\n",
       "2  People are reviewing it negatively without eve...\n",
       "3  It's the story of a man, who didn't have a mas...\n",
       "4  No way closer to original. Acting is literally..."
      ]
     },
     "execution_count": 19,
     "metadata": {},
     "output_type": "execute_result"
    }
   ],
   "source": [
    "review_df=pd.read_csv('LalSinghChadda-Reveiw.csv')\n",
    "review_df.head()"
   ]
  },
  {
   "cell_type": "code",
   "execution_count": 20,
   "id": "002c9e04-f2f7-4a16-89b2-03d62092f038",
   "metadata": {
    "scrolled": true
   },
   "outputs": [
    {
     "data": {
      "text/plain": [
       "\"It's the story of a man, who didn't have a master plan, took each day as it was given, if you erred you'd be forgiven, loved his family and his friends, didn't fake, feign or pretend, full of love and dedication, reverence and adoration.You can easily put the origins of this to one side and enjoy a piece of cinema that is still unique in many ways. The central performance from Aamir Khan is delightful, the supporting roles just as good and the messages and meanings as intense as any from a film that asks you to consider the way you perceive and see the world, and whether there might be anything you can do to make it better for those around you.\""
      ]
     },
     "execution_count": 20,
     "metadata": {},
     "output_type": "execute_result"
    }
   ],
   "source": [
    "review_df['review'][3]"
   ]
  },
  {
   "cell_type": "markdown",
   "id": "99d6bd63-f07a-437c-8410-d7d13af209f9",
   "metadata": {},
   "source": [
    "**Load the pretrained BERT model from hugging face**\n",
    "https://huggingface.co/nlptown/bert-base-multilingual-uncased-sentiment"
   ]
  },
  {
   "cell_type": "code",
   "execution_count": 21,
   "id": "96504239-bd87-4429-abe3-9b29fc62a988",
   "metadata": {},
   "outputs": [],
   "source": [
    "Tokenizer = AutoTokenizer.from_pretrained('nlptown/bert-base-multilingual-uncased-sentiment')\n",
    "\n",
    "Pretrained_model = AutoModelForSequenceClassification.from_pretrained('nlptown/bert-base-multilingual-uncased-sentiment')"
   ]
  },
  {
   "cell_type": "code",
   "execution_count": 22,
   "id": "d6a84b58-63ac-471a-acd9-c7bacc465561",
   "metadata": {},
   "outputs": [
    {
     "name": "stdout",
     "output_type": "stream",
     "text": [
      "3\n"
     ]
    }
   ],
   "source": [
    "tokens = Tokenizer.encode(review_df['review'][3], return_tensors='pt')\n",
    "result = Pretrained_model(tokens)\n",
    "result.logits\n",
    "print(int(torch.argmax(result.logits)))"
   ]
  },
  {
   "cell_type": "code",
   "execution_count": 26,
   "id": "59bd5200-53c3-4171-b2df-0245ff742600",
   "metadata": {},
   "outputs": [],
   "source": [
    "def sentiment_score(review):\n",
    "    tokens = Tokenizer.encode(review, return_tensors='pt')\n",
    "    result = Pretrained_model(tokens)\n",
    "    return int(torch.argmax(result.logits))+1"
   ]
  },
  {
   "cell_type": "code",
   "execution_count": 27,
   "id": "03407311-33d2-4c28-8e2a-d2c4d971356b",
   "metadata": {},
   "outputs": [],
   "source": [
    "review_df['sentiment_score']=review_df['review'].apply(lambda x: sentiment_score(x[:25]))"
   ]
  },
  {
   "cell_type": "code",
   "execution_count": 29,
   "id": "65d1fd57-51f3-4000-9972-416c47b5f2b0",
   "metadata": {},
   "outputs": [
    {
     "data": {
      "text/html": [
       "<div>\n",
       "<style scoped>\n",
       "    .dataframe tbody tr th:only-of-type {\n",
       "        vertical-align: middle;\n",
       "    }\n",
       "\n",
       "    .dataframe tbody tr th {\n",
       "        vertical-align: top;\n",
       "    }\n",
       "\n",
       "    .dataframe thead th {\n",
       "        text-align: right;\n",
       "    }\n",
       "</style>\n",
       "<table border=\"1\" class=\"dataframe\">\n",
       "  <thead>\n",
       "    <tr style=\"text-align: right;\">\n",
       "      <th></th>\n",
       "      <th>review</th>\n",
       "      <th>sentiment_score</th>\n",
       "    </tr>\n",
       "  </thead>\n",
       "  <tbody>\n",
       "    <tr>\n",
       "      <th>0</th>\n",
       "      <td>Lal Singh Chadda is a masterpiece &amp; must watch...</td>\n",
       "      <td>3</td>\n",
       "    </tr>\n",
       "    <tr>\n",
       "      <th>1</th>\n",
       "      <td>After a long time watched a Good Movie but Cou...</td>\n",
       "      <td>4</td>\n",
       "    </tr>\n",
       "    <tr>\n",
       "      <th>2</th>\n",
       "      <td>People are reviewing it negatively without eve...</td>\n",
       "      <td>3</td>\n",
       "    </tr>\n",
       "    <tr>\n",
       "      <th>3</th>\n",
       "      <td>It's the story of a man, who didn't have a mas...</td>\n",
       "      <td>4</td>\n",
       "    </tr>\n",
       "    <tr>\n",
       "      <th>4</th>\n",
       "      <td>No way closer to original. Acting is literally...</td>\n",
       "      <td>1</td>\n",
       "    </tr>\n",
       "    <tr>\n",
       "      <th>5</th>\n",
       "      <td>Remaking a cult classic like Forrest Gump is a...</td>\n",
       "      <td>5</td>\n",
       "    </tr>\n",
       "    <tr>\n",
       "      <th>6</th>\n",
       "      <td>Worst movie ever made dont waste money if you ...</td>\n",
       "      <td>1</td>\n",
       "    </tr>\n",
       "    <tr>\n",
       "      <th>7</th>\n",
       "      <td>I normally do not review films here on Imdb, b...</td>\n",
       "      <td>2</td>\n",
       "    </tr>\n",
       "    <tr>\n",
       "      <th>8</th>\n",
       "      <td>It's not the Amir's best movie for certain but...</td>\n",
       "      <td>3</td>\n",
       "    </tr>\n",
       "    <tr>\n",
       "      <th>9</th>\n",
       "      <td>Not worth wasting money. Better watch Hollywoo...</td>\n",
       "      <td>1</td>\n",
       "    </tr>\n",
       "    <tr>\n",
       "      <th>10</th>\n",
       "      <td>This film does not deserve a one star rating. ...</td>\n",
       "      <td>1</td>\n",
       "    </tr>\n",
       "    <tr>\n",
       "      <th>11</th>\n",
       "      <td>The adaptation is very good! In few moments th...</td>\n",
       "      <td>3</td>\n",
       "    </tr>\n",
       "    <tr>\n",
       "      <th>12</th>\n",
       "      <td>Very cheap version of the Original movie. Very...</td>\n",
       "      <td>1</td>\n",
       "    </tr>\n",
       "    <tr>\n",
       "      <th>13</th>\n",
       "      <td>I had high expectations of Aamir Khan's new mo...</td>\n",
       "      <td>3</td>\n",
       "    </tr>\n",
       "    <tr>\n",
       "      <th>14</th>\n",
       "      <td>Don't believe on the ratings provided by most ...</td>\n",
       "      <td>1</td>\n",
       "    </tr>\n",
       "    <tr>\n",
       "      <th>15</th>\n",
       "      <td>The disaster was imminent. Why even try and re...</td>\n",
       "      <td>1</td>\n",
       "    </tr>\n",
       "    <tr>\n",
       "      <th>16</th>\n",
       "      <td>Definitely worth the watch and I will watch it...</td>\n",
       "      <td>5</td>\n",
       "    </tr>\n",
       "    <tr>\n",
       "      <th>17</th>\n",
       "      <td>This Movie is boring from the start and goes f...</td>\n",
       "      <td>1</td>\n",
       "    </tr>\n",
       "    <tr>\n",
       "      <th>18</th>\n",
       "      <td>Idk what people are saying the guy has class i...</td>\n",
       "      <td>5</td>\n",
       "    </tr>\n",
       "    <tr>\n",
       "      <th>19</th>\n",
       "      <td>I feel people have become quite polarized (thi...</td>\n",
       "      <td>5</td>\n",
       "    </tr>\n",
       "    <tr>\n",
       "      <th>20</th>\n",
       "      <td>Lal Singh Chaddha is Hindi remake of Hollywood...</td>\n",
       "      <td>1</td>\n",
       "    </tr>\n",
       "    <tr>\n",
       "      <th>21</th>\n",
       "      <td>It's a really fun and a light movie,which show...</td>\n",
       "      <td>4</td>\n",
       "    </tr>\n",
       "    <tr>\n",
       "      <th>22</th>\n",
       "      <td>Finally watched arguably the most discussed Bo...</td>\n",
       "      <td>5</td>\n",
       "    </tr>\n",
       "    <tr>\n",
       "      <th>23</th>\n",
       "      <td>Kareena gets arrested, Aamir starts running fo...</td>\n",
       "      <td>1</td>\n",
       "    </tr>\n",
       "    <tr>\n",
       "      <th>24</th>\n",
       "      <td>Right at the start they acknowledge that the f...</td>\n",
       "      <td>3</td>\n",
       "    </tr>\n",
       "  </tbody>\n",
       "</table>\n",
       "</div>"
      ],
      "text/plain": [
       "                                               review  sentiment_score\n",
       "0   Lal Singh Chadda is a masterpiece & must watch...                3\n",
       "1   After a long time watched a Good Movie but Cou...                4\n",
       "2   People are reviewing it negatively without eve...                3\n",
       "3   It's the story of a man, who didn't have a mas...                4\n",
       "4   No way closer to original. Acting is literally...                1\n",
       "5   Remaking a cult classic like Forrest Gump is a...                5\n",
       "6   Worst movie ever made dont waste money if you ...                1\n",
       "7   I normally do not review films here on Imdb, b...                2\n",
       "8   It's not the Amir's best movie for certain but...                3\n",
       "9   Not worth wasting money. Better watch Hollywoo...                1\n",
       "10  This film does not deserve a one star rating. ...                1\n",
       "11  The adaptation is very good! In few moments th...                3\n",
       "12  Very cheap version of the Original movie. Very...                1\n",
       "13  I had high expectations of Aamir Khan's new mo...                3\n",
       "14  Don't believe on the ratings provided by most ...                1\n",
       "15  The disaster was imminent. Why even try and re...                1\n",
       "16  Definitely worth the watch and I will watch it...                5\n",
       "17  This Movie is boring from the start and goes f...                1\n",
       "18  Idk what people are saying the guy has class i...                5\n",
       "19  I feel people have become quite polarized (thi...                5\n",
       "20  Lal Singh Chaddha is Hindi remake of Hollywood...                1\n",
       "21  It's a really fun and a light movie,which show...                4\n",
       "22  Finally watched arguably the most discussed Bo...                5\n",
       "23  Kareena gets arrested, Aamir starts running fo...                1\n",
       "24  Right at the start they acknowledge that the f...                3"
      ]
     },
     "execution_count": 29,
     "metadata": {},
     "output_type": "execute_result"
    }
   ],
   "source": [
    "review_df.head(25)"
   ]
  },
  {
   "cell_type": "code",
   "execution_count": 30,
   "id": "bef37220-84e0-44a4-b40c-83dfcba96be5",
   "metadata": {
    "scrolled": true
   },
   "outputs": [
    {
     "data": {
      "text/plain": [
       "sentiment_score\n",
       "1    10\n",
       "3     6\n",
       "5     5\n",
       "4     3\n",
       "2     1\n",
       "Name: count, dtype: int64"
      ]
     },
     "execution_count": 30,
     "metadata": {},
     "output_type": "execute_result"
    }
   ],
   "source": [
    "review_df['sentiment_score'].value_counts()"
   ]
  },
  {
   "cell_type": "markdown",
   "id": "29bbed24-784a-40ce-a88a-04090bb508ac",
   "metadata": {},
   "source": [
    "**Analyzing the sentiment score using count plot**"
   ]
  },
  {
   "cell_type": "code",
   "execution_count": 34,
   "id": "cd966d45-6dc0-4a35-8e55-4a748e1819fd",
   "metadata": {},
   "outputs": [
    {
     "data": {
      "image/png": "[encoded data removed]",
      "text/plain": [
       "<Figure size 640x480 with 1 Axes>"
      ]
     },
     "metadata": {},
     "output_type": "display_data"
    }
   ],
   "source": [
    "sns.countplot(data=review_df, x='sentiment_score')\n",
    "plt.title('Sentiment Score Distribution')\n",
    "plt.xlabel('Sentiment Score')\n",
    "plt.ylabel('Count')\n",
    "\n",
    "plt.show()"
   ]
  },
  {
   "cell_type": "code",
   "execution_count": null,
   "id": "5c99ebb3-77eb-4cab-a622-94d415317cf3",
   "metadata": {},
   "outputs": [],
   "source": []
  }
 ],
 "metadata": {
  "kernelspec": {
   "display_name": "Python 3 (ipykernel)",
   "language": "python",
   "name": "python3"
  },
  "language_info": {
   "codemirror_mode": {
    "name": "ipython",
    "version": 3
   },
   "file_extension": ".py",
   "mimetype": "text/x-python",
   "name": "python",
   "nbconvert_exporter": "python",
   "pygments_lexer": "ipython3",
   "version": "3.11.7"
  }
 },
 "nbformat": 4,
 "nbformat_minor": 5
}
